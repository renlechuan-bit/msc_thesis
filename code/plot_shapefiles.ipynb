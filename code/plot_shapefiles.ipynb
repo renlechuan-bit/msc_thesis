{
 "cells": [
  {
   "cell_type": "code",
   "execution_count": null,
   "id": "c70255c0",
   "metadata": {},
   "outputs": [],
   "source": [
    "import cartopy.crs as ccrs\n",
    "import cartopy.feature as cfeature\n",
    "import matplotlib.pyplot as plt\n",
    "import matplotlib.patches as mpatches\n",
    "import pandas as pd\n",
    "import numpy as np\n",
    "import geopandas as gpd\n",
    "import shapely"
   ]
  },
  {
   "cell_type": "code",
   "execution_count": null,
   "id": "29bd7837",
   "metadata": {},
   "outputs": [],
   "source": [
    "iho = gpd.read_file(\"./data/World_Seas_IHO_v3/World_Seas_IHO_v3.shp\")"
   ]
  },
  {
   "cell_type": "code",
   "execution_count": null,
   "id": "d219cd27",
   "metadata": {},
   "outputs": [],
   "source": [
    "iho"
   ]
  },
  {
   "cell_type": "code",
   "execution_count": null,
   "id": "ee03d458",
   "metadata": {},
   "outputs": [],
   "source": [
    "projection = ccrs.PlateCarree()\n",
    "fig = plt.figure(figsize=(20 * 4, 5 * 4))\n",
    "ax = fig.add_subplot(1, 1, 1, projection=projection)\n",
    "ax.set_extent([-180, 180, -90, 90], crs=projection)\n",
    "\n",
    "# Add Natural Earth data\n",
    "ax.add_feature(cfeature.LAND)\n",
    "ax.add_feature(cfeature.OCEAN, color=\"white\")\n",
    "ax.add_feature(cfeature.COASTLINE)\n",
    "ax.add_feature(cfeature.BORDERS, linestyle=\":\")\n",
    "ax.add_feature(cfeature.LAKES, alpha=0.5)\n",
    "ax.add_feature(cfeature.RIVERS)\n",
    "\n",
    "for ix, row in iho.iterrows():\n",
    "    ax.add_geometries(row[\"geometry\"], crs=projection, facecolor=\"none\", edgecolor=\"b\")\n",
    "    ax.annotate(str(row[\"NAME\"]), (row[\"geometry\"].centroid.x, row[\"geometry\"].centroid.y), fontsize=20)\n",
    "\n",
    "plt.show()"
   ]
  },
  {
   "cell_type": "code",
   "execution_count": null,
   "id": "054ec658",
   "metadata": {},
   "outputs": [],
   "source": []
  }
 ],
 "metadata": {
  "kernelspec": {
   "display_name": "Python [conda env:.conda-data]",
   "language": "python",
   "name": "conda-env-.conda-data-py"
  },
  "language_info": {
   "codemirror_mode": {
    "name": "ipython",
    "version": 3
   },
   "file_extension": ".py",
   "mimetype": "text/x-python",
   "name": "python",
   "nbconvert_exporter": "python",
   "pygments_lexer": "ipython3",
   "version": "3.13.5"
  }
 },
 "nbformat": 4,
 "nbformat_minor": 5
}
