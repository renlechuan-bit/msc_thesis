{
 "cells": [
  {
   "cell_type": "code",
   "execution_count": 1,
   "id": "be9d6e00",
   "metadata": {},
   "outputs": [],
   "source": [
    "import pandas as pd"
   ]
  },
  {
   "cell_type": "code",
   "execution_count": 4,
   "id": "d696f9ad",
   "metadata": {},
   "outputs": [],
   "source": [
    "df = pd.read_csv(\"./metadata_1446.csv\", index_col=0)"
   ]
  },
  {
   "cell_type": "code",
   "execution_count": 6,
   "id": "2590e685",
   "metadata": {},
   "outputs": [],
   "source": [
    "provs = pd.read_csv(\"/data/gpfs/projects/punim1293/vini/phd-2025/data/metadata_1454_cluster_labels.csv\", index_col=0)"
   ]
  },
  {
   "cell_type": "code",
   "execution_count": 9,
   "id": "0cf9b4ac",
   "metadata": {},
   "outputs": [],
   "source": [
    "prov_metadata = {\n",
    "    16: {\n",
    "        \"description\": \"Baltic Sea\",\n",
    "        \"label\": \"BALT\",\n",
    "        \"category\": \"BALT\",\n",
    "        \"marker\": \"X\"\n",
    "    },\n",
    "    11: {\n",
    "        \"description\": \"Pacific Equatorial divergence/countercurrent\",\n",
    "        \"label\": \"TRHI\",\n",
    "        \"category\": \"TROP\",\n",
    "        \"marker\": \"s\"\n",
    "    },\n",
    "    5: {\n",
    "        \"description\": \"Subtropical oceanic gyres\",\n",
    "        \"label\": \"TGYR\",\n",
    "        \"category\": \"TROP\",\n",
    "        \"marker\": \"D\"\n",
    "    },\n",
    "    9: {\n",
    "        \"description\": \"Broad Tropical\",\n",
    "        \"label\": \"TRLO\",\n",
    "        \"category\": \"TROP\",\n",
    "        \"marker\": \"o\"\n",
    "    },\n",
    "    0: {\n",
    "        \"description\": \"Antarctic polar\",\n",
    "        \"label\": \"APLR\",\n",
    "        \"category\": \"POLR\",\n",
    "        \"marker\": \"v\"\n",
    "    },\n",
    "    14: {\n",
    "        \"description\": \"Arctic/Boreal polar\",\n",
    "        \"label\": \"BPLR\",\n",
    "        \"category\": \"POLR\",\n",
    "        \"marker\": \"^\"\n",
    "    },\n",
    "    10: {\n",
    "        \"description\": \"Coastal temperate/Upwelling areas\",\n",
    "        \"label\": \"CTEM\",\n",
    "        \"category\": \"TEMP\",\n",
    "        \"marker\": \"P\"\n",
    "    },\n",
    "    2: {\n",
    "        \"description\": \"Subantarctic-like\",\n",
    "        \"label\": \"OTEM\",\n",
    "        \"category\": \"TEMP\",\n",
    "        \"marker\": \"<\"\n",
    "    },\n",
    "    3: {\n",
    "        \"description\": \"North Atlantic Drift-like\",\n",
    "        \"label\": \"STEM\",\n",
    "        \"category\": \"TEMP\",\n",
    "        \"marker\": \">\"\n",
    "    },\n",
    "    7: {\n",
    "        \"description\": \"Mediterranean-like\",\n",
    "        \"label\": \"MTEM\",\n",
    "        \"category\": \"TEMP\",\n",
    "        \"marker\": \"p\"\n",
    "    },\n",
    "}"
   ]
  },
  {
   "cell_type": "code",
   "execution_count": 17,
   "id": "f00e1eaa",
   "metadata": {},
   "outputs": [],
   "source": [
    "df = df.join(provs[\"sourmash_k_10_1487_25m\"].map({k: v[\"description\"] for k, v in prov_metadata.items()}))"
   ]
  },
  {
   "cell_type": "code",
   "execution_count": 18,
   "id": "2724c889",
   "metadata": {},
   "outputs": [],
   "source": [
    "df = df.rename(columns={\"sourmash_k_10_1487_25m\": \"biogeographical_province\"})"
   ]
  },
  {
   "cell_type": "code",
   "execution_count": 20,
   "id": "e7813564",
   "metadata": {},
   "outputs": [],
   "source": [
    "df.to_csv(\"./metadata_1446.csv\")"
   ]
  },
  {
   "cell_type": "code",
   "execution_count": 25,
   "id": "f18b4837",
   "metadata": {},
   "outputs": [
    {
     "data": {
      "text/plain": [
       "IHO_Sea_fmt\n",
       "Indian Ocean            340\n",
       "North Atlantic Ocean    229\n",
       "North Pacific Ocean     212\n",
       "South Atlantic Ocean    187\n",
       "South Pacific Ocean     106\n",
       "Bay of Bengal            79\n",
       "Arabian Sea              69\n",
       "Mediterranean Sea        53\n",
       "Baltic Sea               49\n",
       "North Sea                42\n",
       "Arctic Ocean             33\n",
       "Southern Ocean           30\n",
       "Red Sea                  11\n",
       "Coral Sea                 4\n",
       "Celtic Sea                2\n",
       "Name: count, dtype: int64"
      ]
     },
     "execution_count": 25,
     "metadata": {},
     "output_type": "execute_result"
    }
   ],
   "source": [
    "df[\"IHO_Sea_fmt\"].value_counts()"
   ]
  },
  {
   "cell_type": "code",
   "execution_count": null,
   "id": "d6d51e63",
   "metadata": {},
   "outputs": [],
   "source": []
  }
 ],
 "metadata": {
  "kernelspec": {
   "display_name": "data-2025",
   "language": "python",
   "name": "python3"
  },
  "language_info": {
   "codemirror_mode": {
    "name": "ipython",
    "version": 3
   },
   "file_extension": ".py",
   "mimetype": "text/x-python",
   "name": "python",
   "nbconvert_exporter": "python",
   "pygments_lexer": "ipython3",
   "version": "3.13.3"
  }
 },
 "nbformat": 4,
 "nbformat_minor": 5
}
