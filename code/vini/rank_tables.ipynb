{
 "cells": [
  {
   "cell_type": "code",
   "execution_count": 1,
   "id": "e5b2c9ee",
   "metadata": {},
   "outputs": [],
   "source": [
    "import pandas as pd"
   ]
  },
  {
   "cell_type": "code",
   "execution_count": 2,
   "id": "482ca235",
   "metadata": {},
   "outputs": [],
   "source": [
    "wd = \"/data/gpfs/projects/punim1989/global_ocean_phylogenomics\"\n",
    "data_dir = \"/data/gpfs/projects/punim2504/data\""
   ]
  },
  {
   "cell_type": "code",
   "execution_count": 3,
   "id": "780abf39",
   "metadata": {},
   "outputs": [],
   "source": [
    "def process_metadata():\n",
    "    # Originally this had 1454, but excluded that file to avoid confusion\n",
    "    metadata = pd.read_csv(f\"{wd}/data/metadata_1446.csv\", index_col=0)\n",
    "    sandpiper_counts = pd.read_csv(f\"{data_dir}/sandpiper0.3.0.condensed.csv\", sep=\"\\t\", index_col=0)\n",
    "\n",
    "    sp_samples = sandpiper_counts.index.unique()\n",
    "    metadata_subset = metadata[metadata[\"sra_run\"].isin(sp_samples)]\n",
    "    in_sandpiper = metadata_subset[\"sra_run\"]\n",
    "    sandpiper_subset = sandpiper_counts.loc[in_sandpiper]\n",
    "\n",
    "    metadata_subset.to_csv(f\"{wd}/data/metadata_1446.csv\")\n",
    "    sandpiper_subset.to_csv(f\"{wd}/data/sandpiper_1446_long.csv\")\n",
    "\n",
    "    return metadata_subset, sandpiper_subset\n",
    "\n",
    "metadata_subset, sandpiper_subset = process_metadata()"
   ]
  },
  {
   "cell_type": "code",
   "execution_count": 4,
   "id": "2359533b",
   "metadata": {},
   "outputs": [],
   "source": [
    "def split_lineages(counts, outdir):\n",
    "    lineage = counts['taxonomy'].str.split(\"; \", expand=True).iloc[:, 1:]\n",
    "    lineage.columns = [\n",
    "    \"domain\",\n",
    "    \"phylum\",\n",
    "    \"class\",\n",
    "    \"order\",\n",
    "    \"family\",\n",
    "    \"genus\",\n",
    "    \"species\",\n",
    "    ]\n",
    "    lineage[\"coverage\"] = counts[\"coverage\"]\n",
    "    ranks = lineage.columns[:-1].to_list()\n",
    "    rank_dfs = dict() \n",
    "    for rank in ranks:\n",
    "        rank_dfs[rank] = lineage.reset_index().pivot_table(\n",
    "        index=\"sample\",\n",
    "        columns=rank,\n",
    "        values=\"coverage\",\n",
    "        aggfunc=\"sum\",\n",
    "    ).fillna(0.0).astype(float)\n",
    "\n",
    "    for rank, df in rank_dfs.items():\n",
    "        outfile = f\"{outdir}/rank_{rank}.csv\"\n",
    "        print(f\"Writing '{rank}' table to '{outfile}'.\")\n",
    "        df.to_csv(outfile, sep=\"\\t\", index=True, header=True)\n"
   ]
  },
  {
   "cell_type": "code",
   "execution_count": 5,
   "id": "a0aa5335",
   "metadata": {},
   "outputs": [
    {
     "name": "stdout",
     "output_type": "stream",
     "text": [
      "Writing 'domain' table to '/data/gpfs/projects/punim1989/global_ocean_phylogenomics/data/rank_tables/rank_domain.csv'.\n",
      "Writing 'phylum' table to '/data/gpfs/projects/punim1989/global_ocean_phylogenomics/data/rank_tables/rank_phylum.csv'.\n",
      "Writing 'class' table to '/data/gpfs/projects/punim1989/global_ocean_phylogenomics/data/rank_tables/rank_class.csv'.\n",
      "Writing 'order' table to '/data/gpfs/projects/punim1989/global_ocean_phylogenomics/data/rank_tables/rank_order.csv'.\n",
      "Writing 'family' table to '/data/gpfs/projects/punim1989/global_ocean_phylogenomics/data/rank_tables/rank_family.csv'.\n",
      "Writing 'genus' table to '/data/gpfs/projects/punim1989/global_ocean_phylogenomics/data/rank_tables/rank_genus.csv'.\n",
      "Writing 'species' table to '/data/gpfs/projects/punim1989/global_ocean_phylogenomics/data/rank_tables/rank_species.csv'.\n"
     ]
    }
   ],
   "source": [
    "split_lineages(sandpiper_subset, f\"{wd}/data/rank_tables\")"
   ]
  },
  {
   "cell_type": "code",
   "execution_count": null,
   "id": "3732a0c0",
   "metadata": {},
   "outputs": [],
   "source": []
  }
 ],
 "metadata": {
  "kernelspec": {
   "display_name": "Python [conda env:.conda-data-2025]",
   "language": "python",
   "name": "conda-env-.conda-data-2025-py"
  },
  "language_info": {
   "codemirror_mode": {
    "name": "ipython",
    "version": 3
   },
   "file_extension": ".py",
   "mimetype": "text/x-python",
   "name": "python",
   "nbconvert_exporter": "python",
   "pygments_lexer": "ipython3",
   "version": "3.13.3"
  }
 },
 "nbformat": 4,
 "nbformat_minor": 5
}
