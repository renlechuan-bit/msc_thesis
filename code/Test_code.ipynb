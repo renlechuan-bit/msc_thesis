{
 "cells": [
  {
   "cell_type": "code",
   "execution_count": 3,
   "id": "f74cf3de",
   "metadata": {},
   "outputs": [
    {
     "name": "stdout",
     "output_type": "stream",
     "text": [
      "tip 总数: 5814\n",
      "前20个: ['s__Nitrosopumilus sp018657375', 's__Nitrosopumilus sp028351415', 's__Nitrosopumilus sp028335865', 's__Nitrosopumilus sp014384445', 's__Nitrosopumilus sp905612295', 's__Nitrosopumilus sp001437625', 's__Nitrosopumilus sp905612275', 's__Nitrosopumilus sp905616385', 's__Nitrosopumilus sp902514095', 's__Nitrosopumilus sp905612485', 's__Nitrosopumilus sp028448965', 's__Nitrosopumilus sp028377625', 's__Nitrosopumilus sp937897875', 's__Nitrosopumilus sp902514275', 's__Nitrosopumilus sp028343855', 's__Nitrosopumilus sp001541925', 's__Nitrosopumilus sp003702465', 's__Nitrosopumilus catalinensis', 's__Nitrosopumilus sp002690535', 's__Nitrosopumilus sp013867245']\n",
      "不含 s__ 的 tip 数: 0\n"
     ]
    }
   ],
   "source": [
    "from Bio import Phylo\n",
    "\n",
    "tree = Phylo.read(\"/data/gpfs/projects/punim2504/msc_thesis/data/unifrac_L2_data/tree_L2.nwk\", \"newick\")\n",
    "\n",
    "tips = [t.name for t in tree.get_terminals()]\n",
    "print(\"tip 总数:\", len(tips))\n",
    "print(\"前20个:\", tips[:20])\n",
    "print(\"不含 s__ 的 tip 数:\", sum(\"s__\" not in t for t in tips))"
   ]
  },
  {
   "cell_type": "code",
   "execution_count": 4,
   "id": "385c7388",
   "metadata": {},
   "outputs": [
    {
     "name": "stdout",
     "output_type": "stream",
     "text": [
      "Index(['s__Pelagibacter sp902578325', 's__Pelagibacter sp902597515',\n",
      "       's__Pelagibacter sp902553675', 's__Pelagibacter sp902597555',\n",
      "       's__Pelagibacter sp902587755', 's__Pelagibacter sp902546085',\n",
      "       's__Pelagibacter sp902521615', 's__Pelagibacter sp902542855',\n",
      "       's__Pelagibacter sp902545555', 'temp3870',\n",
      "       's__Pelagibacter sp902572515', 's__Pelagibacter sp003278805',\n",
      "       's__Pelagibacter sp902541825', 's__Pelagibacter sp902546375',\n",
      "       's__Pelagibacter sp902633585', 's__Pelagibacter sp902527485',\n",
      "       'temp3876', 'temp3875', 's__Pelagibacter sp902532645', 'temp3873'],\n",
      "      dtype='object')\n",
      "是否所有行都包含 s__: False\n",
      "不是 species 的行有: ['temp3870', 'temp3876', 'temp3875', 'temp3873', 'temp3869', 'temp3856', 'temp3707', 'temp3703', 'temp3874', 'temp3872', 'temp3868', 'temp3855', 'temp3853', 'temp3852', 'temp3846', 'temp3706', 'temp3702', 'temp3880', 'temp3871', 'temp3867']\n",
      "总数: 5813\n"
     ]
    }
   ],
   "source": [
    "import pandas as pd\n",
    "\n",
    "otu = pd.read_csv(\"/home/lechuanr/punim2504/backups/analysis/L2_Unifrac/L2-UniFrac-Paper/mydata/otu_table_L2_extended.tsv\", sep=\"\\t\", index_col=0)\n",
    "\n",
    "print(otu.index[:20])\n",
    "\n",
    "print(\"是否所有行都包含 s__:\", all(\"s__\" in str(x) for x in otu.index))\n",
    "\n",
    "# 如果有例外，列出来\n",
    "bad = [x for x in otu.index if \"s__\" not in str(x)]\n",
    "print(\"不是 species 的行有:\", bad[:20])\n",
    "print(\"总数:\", len(bad))"
   ]
  },
  {
   "cell_type": "code",
   "execution_count": 3,
   "id": "101d0785",
   "metadata": {},
   "outputs": [
    {
     "name": "stdout",
     "output_type": "stream",
     "text": [
      "['North Pacific Ocean' 'North Sea' 'Baltic Sea' 'Mediterranean Sea'\n",
      " 'Arctic Ocean' 'North Atlantic Ocean' 'South Pacific Ocean'\n",
      " 'South Atlantic Ocean' 'Southern Ocean' 'Red Sea' 'Arabian Sea'\n",
      " 'Indian Ocean' 'Bay of Bengal' 'Celtic Sea' 'Coral Sea']\n",
      "IHO_Sea_fmt\n",
      "Indian Ocean            340\n",
      "North Atlantic Ocean    229\n",
      "North Pacific Ocean     212\n",
      "South Atlantic Ocean    187\n",
      "South Pacific Ocean     106\n",
      "Bay of Bengal            79\n",
      "Arabian Sea              69\n",
      "Mediterranean Sea        53\n",
      "Baltic Sea               49\n",
      "North Sea                42\n",
      "Arctic Ocean             33\n",
      "Southern Ocean           30\n",
      "Red Sea                  11\n",
      "Coral Sea                 4\n",
      "Celtic Sea                2\n",
      "Name: count, dtype: int64\n"
     ]
    }
   ],
   "source": [
    "import pandas as pd\n",
    "meta = pd.read_csv(\"/home/lechuanr/punim2504/msc_thesis/data/unifrac_L2_data/metadata_forL2.txt\", sep=\"\\t\")\n",
    "print(meta[\"IHO_Sea_fmt\"].unique())\n",
    "\n",
    "counts = meta[\"IHO_Sea_fmt\"].value_counts()\n",
    "\n",
    "print(counts)"
   ]
  },
  {
   "cell_type": "code",
   "execution_count": 4,
   "id": "13d1a6de",
   "metadata": {},
   "outputs": [],
   "source": [
    "\n",
    "\n",
    "# 新建一列 IHO_Sea_comb，先复制原列\n",
    "meta[\"IHO_Sea_comb\"] = meta[\"IHO_Sea_fmt\"]\n",
    "\n",
    "# 替换 Celtic Sea 和 Coral Sea\n",
    "meta[\"IHO_Sea_comb\"] = meta[\"IHO_Sea_comb\"].replace({\n",
    "    \"Celtic Sea\": \"North Atlantic Ocean\",\n",
    "    \"Coral Sea\": \"South Pacific Ocean\"\n",
    "})\n",
    "\n",
    "# 保存回文件\n",
    "meta.to_csv(\"/home/lechuanr/punim2504/msc_thesis/data/unifrac_L2_data/metadata.txt\", sep=\"\\t\", index=False)\n"
   ]
  },
  {
   "cell_type": "code",
   "execution_count": 1,
   "id": "bdf37b13",
   "metadata": {},
   "outputs": [
    {
     "name": "stdout",
     "output_type": "stream",
     "text": [
      "['index', 'sample_name', 'sra_run', 'sra_run_fmt', 'division', 'subdivision', 'bioproject', 'biosample', 'Prov', 'ProvDescr', 'ProvCategory', 'instrument', 'collection_date', 'depth', 'latitude', 'longitude', 'temperature', 'DiffuseAttenuationCoefficientPAR', 'MixedLayerDepth', 'Salinity', 'Terrain', 'Nitrate', 'OceanTemperature', 'DissolvedMolecularOxygen', 'PhotosyntheticallyAvailableRadiation', 'Silicate', 'TotalCloudFraction', 'pH', 'SeaIceThickness', 'SeaWaterSpeed', 'DissolvedIron', 'Phosphate', 'AirTemperature', 'TotalPhytoplankton', 'SeaIceCover', 'Chlorophyll', 'IHO_Sea', 'IHO_Sea_MRGID', 'IHO_Sea_fmt', 'coords', 'station', 'station_fmt', 'depth_cat', 'biogeographical_province', 'IHO_Sea_comb']\n"
     ]
    }
   ],
   "source": [
    "import pandas as pd\n",
    "\n",
    "# 读取表格（支持 CSV、Excel、TSV 等）\n",
    "df = pd.read_csv(\"/home/lechuanr/punim2504/msc_thesis/data/metadata_1446.csv\")\n",
    "\n",
    "# 获取表头（列名列表）\n",
    "headers = df.columns.tolist()\n",
    "print(headers)\n"
   ]
  },
  {
   "cell_type": "code",
   "execution_count": null,
   "id": "1a8ac847",
   "metadata": {},
   "outputs": [],
   "source": []
  }
 ],
 "metadata": {
  "kernelspec": {
   "display_name": "L2UniFrac",
   "language": "python",
   "name": "python3"
  },
  "language_info": {
   "codemirror_mode": {
    "name": "ipython",
    "version": 3
   },
   "file_extension": ".py",
   "mimetype": "text/x-python",
   "name": "python",
   "nbconvert_exporter": "python",
   "pygments_lexer": "ipython3",
   "version": "3.10.13"
  }
 },
 "nbformat": 4,
 "nbformat_minor": 5
}
